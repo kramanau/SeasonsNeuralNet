{
 "cells": [
  {
   "cell_type": "code",
   "execution_count": 205,
   "metadata": {},
   "outputs": [],
   "source": [
    "from fastai.vision.all import *\n",
    "from fastai.vision.widgets import *\n"
   ]
  },
  {
   "cell_type": "code",
   "execution_count": 209,
   "metadata": {},
   "outputs": [],
   "source": [
    "path = Path()\n",
    "learn_inf = load_learner(path/'model.pkl')"
   ]
  },
  {
   "cell_type": "code",
   "execution_count": 210,
   "metadata": {},
   "outputs": [],
   "source": [
    "PILImage.create(path/'seasons/fall/00000005.jpg').to_thumb(192)\n",
    "out1 = widgets.Output()\n",
    "out2 = widgets.Output()\n",
    "out3 = widgets.Output()\n",
    "out4 = widgets.Output()\n",
    "out5 = widgets.Output()\n",
    "with out1: display(PILImage.create(path/'seasons/fall/00000005.jpg').to_thumb(192))\n",
    "with out2: display(PILImage.create(path/'seasons/winter/00000008.jpg').to_thumb(192))\n",
    "with out3: display(PILImage.create(path/'seasons/spring/00000008.jpg').to_thumb(192))\n",
    "with out4: display(PILImage.create(path/'seasons/summer/00000006.jpg').to_thumb(192))\n",
    "with out5: display(PILImage.create(path/'WLwinter.jpg').to_thumb(220))"
   ]
  },
  {
   "cell_type": "code",
   "execution_count": 211,
   "metadata": {},
   "outputs": [],
   "source": [
    "left_imgs = VBox([out1,out2,out3,out4])\n",
    "label = widgets.Label(\"Classify the season from an image!\")\n",
    "img = out5\n",
    "upl_btn = widgets.FileUpload()\n",
    "btn_run = widgets.Button(description='Classify')\n",
    "lbl_pred = widgets.Label()\n",
    "\n"
   ]
  },
  {
   "cell_type": "code",
   "execution_count": 212,
   "metadata": {},
   "outputs": [],
   "source": [
	"right_box = VBox([label,img,up_btn,btn_run,lbl_pred])\n",
    "right_box.layout.align_items = 'center'\n",
    "right_box.layout.width = '45%'",
    "#hb = HBox([left_imgs,right_box])\n",
    "#hb.layout.align_items = 'center'"
   ]
  },
  {
   "cell_type": "code",
   "execution_count": 213,
   "metadata": {},
   "outputs": [],
   "source": [
    "def on_click_classify(change):\n",
    "    if bool(upl_btn.data):\n",
    "        img = PILImage.create(upl_btn.data[-1])\n",
    "        out5.clear_output()\n",
    "        with out5: display(img.to_thumb(128,128))\n",
    "        pred,pred_idx,probs = learn_inf.predict(img)\n",
    "        lbl_pred.value = f'Prediction: {pred}; Probability: {probs[pred_idx]:.04f}'\n",
    "    else:\n",
    "        pred,pred_idx,probs = learn_inf.predict(PILImage.create('WLwinter.jpg'))\n",
    "        lbl_pred.value = f'Prediction: {pred}; Probability: {probs[pred_idx]:.04f}'\n",
    "btn_run.on_click(on_click_classify)"
   ]
  },
  {
   "cell_type": "code",
   "execution_count": 214,
   "metadata": {},
   "outputs": [
    {
     "data": {
      "application/vnd.jupyter.widget-view+json": {
       "model_id": "8d9dd92acc7347fcb37fa59bd14dab8f",
       "version_major": 2,
       "version_minor": 0
      },
      "text/plain": [
       "HBox(children=(VBox(children=(Output(outputs=({'output_type': 'display_data', 'data': {'text/plain': '<PIL.Ima…"
      ]
     },
     "metadata": {},
     "output_type": "display_data"
    }
   ],
   "source": [
    "#display(hb)"
   ]
  },
  {
   "cell_type": "code",
   "execution_count": null,
   "metadata": {},
   "outputs": [],
   "source": []
  }
 ],
 "metadata": {
  "environment": {
   "name": "pytorch-gpu.1-4.m55",
   "type": "gcloud",
   "uri": "gcr.io/deeplearning-platform-release/pytorch-gpu.1-4:m55"
  },
  "kernelspec": {
   "display_name": "Python 3",
   "language": "python",
   "name": "python3"
  },
  "language_info": {
   "codemirror_mode": {
    "name": "ipython",
    "version": 3
   },
   "file_extension": ".py",
   "mimetype": "text/x-python",
   "name": "python",
   "nbconvert_exporter": "python",
   "pygments_lexer": "ipython3",
   "version": "3.7.8"
  }
 },
 "nbformat": 4,
 "nbformat_minor": 4
}
